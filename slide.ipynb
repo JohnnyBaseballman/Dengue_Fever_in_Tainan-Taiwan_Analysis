{
 "cells": [
  {
   "cell_type": "markdown",
   "metadata": {
    "slideshow": {
     "slide_type": "slide"
    }
   },
   "source": [
    "Excel很好用對吧?\n",
    "* 大多數的資料都能在Excel處理\n",
    "* 但對於格式散亂的資料，Excel似乎就很難用了\n"
   ]
  },
  {
   "cell_type": "markdown",
   "metadata": {
    "slideshow": {
     "slide_type": "slide"
    }
   },
   "source": [
    " * 但如果你的資料有上萬筆呢?\n",
    "    * 當你在手動一筆一筆整理資料的時候，耗時又容易出錯\n",
    " * 或是格式是txt、JSON、csv 呢?\n",
    "<img style=\"float: middle;\" src=\"https://lh3.googleusercontent.com/ZLwjk-dghyEZUAzWoFOvUiWcRpBJhHmu4mp_iPAhTgf6ilBSyP2hpcW2jpCL2l7sIdwIwTKw4TELag=w1152-h771-rw-no\" width=\"90%\">\n",
    " * 看看pandas支援的其他格式:http://pandas.pydata.org/pandas-docs/stable/io.html"
   ]
  },
  {
   "cell_type": "markdown",
   "metadata": {
    "slideshow": {
     "slide_type": "subslide"
    }
   },
   "source": [
    "這時候你需要 pandas 這個模組~~~"
   ]
  },
  {
   "cell_type": "markdown",
   "metadata": {
    "slideshow": {
     "slide_type": "slide"
    }
   },
   "source": [
    "安裝pandas\n"
   ]
  },
  {
   "cell_type": "code",
   "execution_count": null,
   "metadata": {
    "slideshow": {
     "slide_type": "-"
    }
   },
   "outputs": [],
   "source": [
    "# 如果你有裝Anaconda，跑下面這一行\n",
    "conda install pandas\n",
    "\n",
    "# 如果你沒有裝Anaconda，跑下面這一行\n",
    "pip install pandas"
   ]
  },
  {
   "cell_type": "markdown",
   "metadata": {
    "slideshow": {
     "slide_type": "slide"
    }
   },
   "source": [
    "Pandas 能做到什麼？\n",
    "- 你在 excel 中能做到的大部分他都能做到\n",
    "    - 匯入 CSV、txt、JSON檔\n",
    "    - 建立表格，選取欄位\n",
    "    - 處理空值\n",
    "    - 查看統計數字\n",
    "    - 排序，計算欄位平均值，相關係數"
   ]
  },
  {
   "cell_type": "markdown",
   "metadata": {
    "slideshow": {
     "slide_type": "slide"
    }
   },
   "source": [
    "- 接下來你會學到\n",
    "    - 以pandas開啟檔案\n",
    "    - pandas 的兩種常用物件\n",
    "    - 排序，合併，讀取數據，統計數字，空值處理"
   ]
  },
  {
   "cell_type": "markdown",
   "metadata": {
    "slideshow": {
     "slide_type": "slide"
    }
   },
   "source": [
    "開始! 🐌\n",
    "\n",
    "<div style=\"text-align: center\">\n",
    "    <img src=\"https://i.imgur.com/fpyD2So.png\">\n",
    "</div>"
   ]
  },
  {
   "cell_type": "code",
   "execution_count": null,
   "metadata": {
    "slideshow": {
     "slide_type": "slide"
    }
   },
   "outputs": [],
   "source": [
    "以pandas開啟檔案\n",
    "[政府資料開放平台](https://data.gov.tw/)"
   ]
  },
  {
   "cell_type": "code",
   "execution_count": null,
   "metadata": {},
   "outputs": [],
   "source": [
    "import requests\n",
    "import pandas as pd\n",
    "\n",
    "url=\"http://data.tainan.gov.tw/dataset/3ad9da64-0c29-4299-b769-320b57a09be8/resource/7617bfcd-20e2-4f8d-a83b-6f6b479367f9/download/dengue104unicode.csv\"\n",
    "response=requests.get(url)\n",
    "# print(response.encoding)\n",
    "response.encoding = 'utf-8'\n",
    "data=response.text\n",
    "# print(new_data)\n",
    "\n",
    "with open(\"dengue104.csv\",\"w\", encoding='utf-8-sig') as f:\n",
    "    f.write(data)\n",
    "with open(\"dengue104.csv\",\"r\", encoding='utf-8-sig') as f:\n",
    "    df = pd.read_csv(f)\n",
    "    print(df) \n",
    "    # print(type(df))"
   ]
  },
  {
   "cell_type": "markdown",
   "metadata": {
    "slideshow": {
     "slide_type": "slide"
    }
   },
   "source": [
    "pandas 有兩種物件\n",
    " - Series：通常拿來處理一維資料，如時間序列。\n",
    "        * 長的跟list有點像，但Series的type還是Series\n",
    " - Dataframe：有點像Table(表格)，用來處理 csv 這種列有索引，欄有標籤的二維資料。"
   ]
  },
  {
   "cell_type": "markdown",
   "metadata": {
    "slideshow": {
     "slide_type": "slide"
    }
   },
   "source": [
    "Series"
   ]
  },
  {
   "cell_type": "markdown",
   "metadata": {},
   "source": [
    " * 從list到series(有點像製作dictionary的作法)"
   ]
  },
  {
   "cell_type": "code",
   "execution_count": 21,
   "metadata": {},
   "outputs": [
    {
     "name": "stdout",
     "output_type": "stream",
     "text": [
      "<class 'pandas.core.series.Series'>\n",
      "--------------------\n",
      "Alex     Labrador Retriever\n",
      "Alice                Beagle\n",
      "Neo               Dachshund\n",
      "Kenny             Shiba Inu\n",
      "dtype: object\n"
     ]
    }
   ],
   "source": [
    "import pandas as pd\n",
    "# 若不加後面的index，則index預設是0,1,2,3...\n",
    "pets = ['Labrador Retriever', 'Beagle', 'Dachshund', 'Shiba Inu']\n",
    "pets_index = ['Alex', 'Alice', 'Neo', 'Kenny']\n",
    "series_1 =  pd.Series(pets,index=pets_index)\n",
    "print(type(series_1))\n",
    "print('-'*20)\n",
    "print(series_1)"
   ]
  },
  {
   "cell_type": "code",
   "execution_count": 28,
   "metadata": {
    "slideshow": {
     "slide_type": "slide"
    }
   },
   "outputs": [
    {
     "name": "stdout",
     "output_type": "stream",
     "text": [
      "Labrador Retriever\n",
      "--------------------\n",
      "Alex     Labrador Retriever\n",
      "Alice                Beagle\n",
      "Neo               Dachshund\n",
      "dtype: object\n",
      "--------------------\n",
      "Labrador Retriever\n",
      "--------------------\n",
      "Alex     Labrador Retriever\n",
      "Alice                Beagle\n",
      "dtype: object\n"
     ]
    }
   ],
   "source": [
    "#資料選取方式\n",
    "# 使用上，你可以使用index 或是 key name來選取\n",
    "\n",
    "print(series_1[0])#當每次只叫出一個 key value ，key name不會顯示喔\n",
    "print('-'*20)\n",
    "print(series_1[[0,1,2]])\n",
    "print('-'*20)\n",
    "print(series_1['Alex'])#當每次只叫出一個 key value ，key name不會顯示喔\n",
    "print('-'*20)\n",
    "print(series_1[['Alex','Alice']])\n"
   ]
  },
  {
   "cell_type": "code",
   "execution_count": 20,
   "metadata": {},
   "outputs": [
    {
     "name": "stdout",
     "output_type": "stream",
     "text": [
      "Alice    Beagle\n",
      "dtype: object\n",
      "--------------------\n",
      "Alex     Labrador Retriever\n",
      "Alice                Beagle\n",
      "Neo               Dachshund\n",
      "dtype: object\n"
     ]
    }
   ],
   "source": [
    "# 也可以像這樣選取連續資料，想想 for i in range (n)的邏輯\n",
    "print(series_1[1:2]) # 從第2個到第3個\n",
    "print('-'*20)\n",
    "print(series_1[:'Neo']) #從第一個 ~ Neo"
   ]
  },
  {
   "cell_type": "markdown",
   "metadata": {
    "slideshow": {
     "slide_type": "slide"
    }
   },
   "source": [
    "Series 跟一般的list比起來有何好處？"
   ]
  },
  {
   "cell_type": "code",
   "execution_count": 26,
   "metadata": {},
   "outputs": [
    {
     "name": "stdout",
     "output_type": "stream",
     "text": [
      "0     15\n",
      "1     60\n",
      "2    200\n",
      "3     60\n",
      "dtype: int64\n"
     ]
    }
   ],
   "source": [
    "#1. 可以直接對兩個Series做加減乘除\n",
    "    #若沒有設定index，則index預設是0,1,2,3...\n",
    "    \n",
    "price = pd.Series([15,20,40,10])\n",
    "counts = pd.Series([1,3,5,6])\n",
    "total_price = price*counts\n",
    "print(total_price)\n"
   ]
  },
  {
   "cell_type": "code",
   "execution_count": 32,
   "metadata": {
    "slideshow": {
     "slide_type": "subslide"
    }
   },
   "outputs": [
    {
     "name": "stdout",
     "output_type": "stream",
     "text": [
      "4.31 ms ± 325 µs per loop (mean ± std. dev. of 7 runs, 100 loops each)\n"
     ]
    }
   ],
   "source": [
    "#2. 運行速度快\n",
    "# resources: SITCON Pandas p8: https://drive.google.com/drive/u/0/folders/0B0UIQiTTYz0BWVJkOHJVVGNUNWs\n",
    "import numpy as np\n",
    "import pandas as pd\n",
    "\n",
    "num_list = np.random.sample(1000000) # 隨機產生 100000 個數字的陣列, 這個陣列型態是 \"numpy 陣列\"\n",
    "pd_series = pd.Series(num_list)\n",
    "ori_list = list(num_list)  # 把 numpy 陣列轉變為一般 python 的陣列\n",
    "\n"
   ]
  },
  {
   "cell_type": "code",
   "execution_count": 34,
   "metadata": {},
   "outputs": [
    {
     "name": "stdout",
     "output_type": "stream",
     "text": [
      "114 ms ± 3.26 ms per loop (mean ± std. dev. of 7 runs, 10 loops each)\n"
     ]
    }
   ],
   "source": [
    "#list 運算\n",
    "%timeit [i+i for i in ori_list]"
   ]
  },
  {
   "cell_type": "code",
   "execution_count": 35,
   "metadata": {},
   "outputs": [
    {
     "name": "stdout",
     "output_type": "stream",
     "text": [
      "4.45 ms ± 361 µs per loop (mean ± std. dev. of 7 runs, 100 loops each)\n"
     ]
    }
   ],
   "source": [
    "#Series 運算\n",
    "%timeit pd_series+pd_series"
   ]
  },
  {
   "cell_type": "markdown",
   "metadata": {},
   "source": [
    " * 用 傳統的 (for i in ori_list...) 來將兩個list的內容相加的運算時間會是用 pd_series + pd_series 來相加的 100倍"
   ]
  },
  {
   "cell_type": "code",
   "execution_count": null,
   "metadata": {
    "slideshow": {
     "slide_type": "subslide"
    }
   },
   "outputs": [],
   "source": [
    "建立data frame:\n",
    "用.DataFrame()將一個 dictionary 的資料結構轉換成 data frame(df)。"
   ]
  },
  {
   "cell_type": "code",
   "execution_count": 119,
   "metadata": {
    "scrolled": true
   },
   "outputs": [
    {
     "name": "stdout",
     "output_type": "stream",
     "text": [
      "   name  english  math\n",
      "0   Amy      100    60\n",
      "1  John       90    80\n",
      "2   Max       65    60\n",
      "3  Hill       80   100\n",
      "<class 'pandas.core.frame.DataFrame'>\n"
     ]
    }
   ],
   "source": [
    "import pandas as pd\n",
    "#方法一\n",
    "dic={\"name\":[\"Amy\",\"John\",\"Max\",\"Hill\"],\n",
    "     \"english\":[100,90,65,80],\n",
    "     \"math\":[60,80,60,100]}\n",
    "df=pd.DataFrame(dic)\n",
    "print(df)\n",
    "print(type(df))"
   ]
  },
  {
   "cell_type": "code",
   "execution_count": 118,
   "metadata": {},
   "outputs": [
    {
     "name": "stdout",
     "output_type": "stream",
     "text": [
      "      english  math\n",
      "Amy       100    60\n",
      "John       90    80\n",
      "Max        65    60\n",
      "Hill       80   100\n",
      "<class 'pandas.core.frame.DataFrame'>\n"
     ]
    }
   ],
   "source": [
    "#方法二\n",
    "english=[100,90,65,80]\n",
    "math=[60,80,60,100]\n",
    "name=[\"Amy\",\"John\",\"Max\",\"Hill\"]\n",
    "dic={\"english\":english,\"math\":math}\n",
    "df=pd.DataFrame(dic)\n",
    "df.index = name\n",
    "print(df1)\n",
    "print(type(df1))"
   ]
  },
  {
   "cell_type": "code",
   "execution_count": 114,
   "metadata": {
    "scrolled": true
   },
   "outputs": [
    {
     "name": "stdout",
     "output_type": "stream",
     "text": [
      "      english   math\n",
      "Amy       100    NaN\n",
      "John       90   80.0\n",
      "Max        65   60.0\n",
      "Hill       80  100.0\n",
      "<class 'pandas.core.frame.DataFrame'>\n"
     ]
    }
   ],
   "source": [
    "#方法三\n",
    "name=[\"Amy\",\"John\",\"Max\",\"Hill\"]\n",
    "df2 = pd.DataFrame([[100,60],[90,80],[65,60],[80,100]], index=name,columns=list([\"english\",\"math\"]))\n",
    "print(df2)\n",
    "print(type(df2))"
   ]
  },
  {
   "cell_type": "code",
   "execution_count": null,
   "metadata": {
    "slideshow": {
     "slide_type": "slide"
    }
   },
   "outputs": [],
   "source": [
    "Df處理數據\n",
    "> * 面對它\n",
    "> * 處理它\n",
    "> * 放下它"
   ]
  },
  {
   "cell_type": "code",
   "execution_count": 36,
   "metadata": {
    "slideshow": {
     "slide_type": "slide"
    }
   },
   "outputs": [
    {
     "name": "stdout",
     "output_type": "stream",
     "text": [
      "      english  math\n",
      "Amy       100    60\n",
      "John       90    80\n",
      "Max        65    60\n",
      "Hill       80   100\n"
     ]
    }
   ],
   "source": [
    "#如果給你一組數據\n",
    "import pandas as pd\n",
    "english=[100,90,65,80]\n",
    "math=[60,80,60,100]\n",
    "name=[\"Amy\",\"John\",\"Max\",\"Hill\"]\n",
    "\n",
    "dic={\"english\":english,\"math\":math}\n",
    "df=pd.DataFrame(dic)\n",
    "df.index = name\n",
    "print(df)"
   ]
  },
  {
   "cell_type": "markdown",
   "metadata": {
    "slideshow": {
     "slide_type": "slide"
    }
   },
   "source": [
    "面對它\n",
    " * 1.查看數據中的類型.dtypes\n",
    " * 2.查看數據的值.values\n",
    " * 3.查看數據的分析.describe"
   ]
  },
  {
   "cell_type": "code",
   "execution_count": 95,
   "metadata": {},
   "outputs": [
    {
     "name": "stdout",
     "output_type": "stream",
     "text": [
      "english    int64\n",
      "math       int64\n",
      "dtype: object\n",
      "--------------------\n",
      "[[100  60]\n",
      " [ 90  80]\n",
      " [ 65  60]\n",
      " [ 80 100]]\n",
      "--------------------\n",
      "          english        math\n",
      "count    4.000000    4.000000\n",
      "mean    83.750000   75.000000\n",
      "std     14.930394   19.148542\n",
      "min     65.000000   60.000000\n",
      "25%     76.250000   60.000000\n",
      "50%     85.000000   70.000000\n",
      "75%     92.500000   85.000000\n",
      "max    100.000000  100.000000\n",
      "--------------------\n"
     ]
    }
   ],
   "source": [
    "print(df.dtypes)#1.查看數據中的類型\n",
    "print(\"-\"*20)\n",
    "print(df.values)#2.查看數據的值.values\n",
    "print(\"-\"*20)\n",
    "print(df.describe())#3.查看數據的分析\n",
    "print(\"-\"*20)"
   ]
  },
  {
   "cell_type": "markdown",
   "metadata": {
    "slideshow": {
     "slide_type": "slide"
    }
   },
   "source": [
    "處理它\n",
    " * 排序:\n",
    "  * 依index排序.sort_index()\n",
    "  * 依values排序.sort_values()[參考](https://pandas.pydata.org/pandas-docs/stable/generated/pandas.DataFrame.sort_values.html)"
   ]
  },
  {
   "cell_type": "code",
   "execution_count": 67,
   "metadata": {},
   "outputs": [
    {
     "name": "stdout",
     "output_type": "stream",
     "text": [
      "      english  math\n",
      "Amy       100    60\n",
      "Hill       80   100\n",
      "John       90    80\n",
      "Max        65    60\n",
      "--------------------\n",
      "      english  math\n",
      "Max        65    60\n",
      "Hill       80   100\n",
      "John       90    80\n",
      "Amy       100    60\n",
      "--------------------\n"
     ]
    }
   ],
   "source": [
    "name_down=df1.sort_index()#依index排序\n",
    "print(name_down)\n",
    "print(\"-\"*20)\n",
    "english_ascending=df1.sort_values(by=\"english\")#依 english的 values升冪排序\n",
    "print(english_ascending)\n",
    "print(\"-\"*20)"
   ]
  },
  {
   "cell_type": "markdown",
   "metadata": {
    "slideshow": {
     "slide_type": "slide"
    }
   },
   "source": [
    "* 練習:\n",
    ">把下面的DataFrame依照math成績由高到低做出降冪排序\n",
    "[參考](https://pandas.pydata.org/pandas-docs/stable/generated/pandas.DataFrame.sort_values.html)"
   ]
  },
  {
   "cell_type": "code",
   "execution_count": null,
   "metadata": {},
   "outputs": [],
   "source": [
    "#參考\n",
    "import pandas as pd\n",
    "english=[100,90,65,80]\n",
    "math=[60,80,60,100]\n",
    "name=[\"Amy\",\"John\",\"Max\",\"Hill\"]\n",
    "\n",
    "dic={\"english\":english,\"math\":math}\n",
    "df=pd.DataFrame(dic)\n",
    "df.index = name\n",
    "print(df1)"
   ]
  },
  {
   "cell_type": "code",
   "execution_count": null,
   "metadata": {
    "slideshow": {
     "slide_type": "slide"
    }
   },
   "outputs": [],
   "source": [
    "處理它\n",
    " * 數據清洗:\n",
    "> * 判斷空值:\n",
    "     * .isnull()\n",
    "     * .notnull() \n",
    "> * 丟棄\n",
    "    * 丟棄值.drop()\n",
    "    * 丟棄空值.dropna()\n",
    "> * 填充.fillna()\n",
    "> * 替換.replace() \n",
    "[參考1](https://blog.csdn.net/zhili8866/article/details/68134481)\n",
    "//[Document](https://pandas.pydata.org/pandas-docs/stable/generated/pandas.DataFrame.replace.html)"
   ]
  },
  {
   "cell_type": "code",
   "execution_count": 10,
   "metadata": {
    "slideshow": {
     "slide_type": "slide"
    }
   },
   "outputs": [
    {
     "name": "stdout",
     "output_type": "stream",
     "text": [
      "      english  math\n",
      "Amy       100  60.0\n",
      "John       90   NaN\n",
      "Max        65  60.0\n",
      "Hill       80   NaN\n",
      "<class 'pandas.core.frame.DataFrame'>\n"
     ]
    }
   ],
   "source": [
    "import numpy as np\n",
    "import pandas as pd\n",
    "# np.nan 是從 numpy 來的，意思是空值，這裡可以先不管他。\n",
    "name=[\"Amy\",\"John\",\"Max\",\"Hill\"]\n",
    "df2 = pd.DataFrame([[100,60],[90,np.nan],[65,60],[80,np.nan]], index=name,columns=list([\"english\",\"math\"]))\n",
    "print(df2)\n",
    "print(type(df2))"
   ]
  },
  {
   "cell_type": "markdown",
   "metadata": {},
   "source": [
    "空值的處理方法:\n",
    "> * 1.直接刪除整筆資料\n",
    "> * 2.拿平均值或中位數來替代\n",
    "> * 3.保留空值並忽略它"
   ]
  },
  {
   "cell_type": "code",
   "execution_count": 37,
   "metadata": {
    "slideshow": {
     "slide_type": "slide"
    }
   },
   "outputs": [
    {
     "name": "stdout",
     "output_type": "stream",
     "text": [
      "Amy     False\n",
      "John    False\n",
      "Max     False\n",
      "Hill    False\n",
      "Name: math, dtype: bool\n",
      "--------------------\n",
      "      english\n",
      "Amy       100\n",
      "John       90\n",
      "Max        65\n",
      "Hill       80\n",
      "--------------------\n",
      "      english  math\n",
      "Amy       100    60\n",
      "John       90    80\n",
      "Max        65    60\n",
      "Hill       80   100\n",
      "--------------------\n",
      "<class 'pandas.core.series.Series'>\n",
      "      english  math\n",
      "Amy       100    60\n",
      "John       90    80\n",
      "Max        65    60\n",
      "Hill       80   100\n",
      "--------------------\n"
     ]
    }
   ],
   "source": [
    "#判斷空值\n",
    "print(df2[\"math\"].isnull()) # 列出\"math\"的每一列是不是有空值\n",
    "print(\"-\"*20)\n",
    "#丟棄math.drop()\n",
    "drop=df2.drop([\"math\"], axis=1)\n",
    "print(drop)\n",
    "print(\"-\"*20)\n",
    "#丟棄含空值的資料\n",
    "dropna=df2.dropna()\n",
    "print(dropna)\n",
    "print(\"-\"*20)\n",
    "#替換-用位置來替換\n",
    "math_=[60,80,60,100]\n",
    "math_new=pd.Series(math_)\n",
    "print(type(math_new))\n",
    "df2[\"math\"]=math_new.values\n",
    "print(df2)\n",
    "print(\"-\"*20)"
   ]
  },
  {
   "cell_type": "markdown",
   "metadata": {
    "slideshow": {
     "slide_type": "slide"
    }
   },
   "source": [
    "處理它\n",
    " * 合併資料:\n",
    "> * .concat(): 直接水平或垂直整併兩組資料\n",
    "     * .join(): 若合併時發現資料有缺值，決定是建立一列新的資料或是忽略該資料\n",
    "> * .merge(): 根據相同欄位內容來合併\n",
    "> * .append(): 直接將數據增加為新的列[參考](https://pandas.pydata.org/pandas-docs/stable/merging.html#concatenating-using-append)"
   ]
  },
  {
   "cell_type": "code",
   "execution_count": 62,
   "metadata": {},
   "outputs": [
    {
     "name": "stdout",
     "output_type": "stream",
     "text": [
      "   name  english  math\n",
      "0   Amy      100    60\n",
      "1  John       90    80\n",
      "2   Max       65    60\n",
      "3  Hill       80   100\n",
      "--------------------\n",
      "   name  chinese\n",
      "0   Max       60\n",
      "1  Hill       80\n",
      "2   Amy       65\n",
      "3  John       50\n"
     ]
    }
   ],
   "source": [
    "#合併兩組資料\n",
    "import pandas as pd\n",
    "dic={\"name\":[\"Amy\",\"John\",\"Max\",\"Hill\"],\n",
    "     \"english\":[100,90,65,80],\n",
    "     \"math\":[60,80,60,100]}\n",
    "dic_1={\"name\":[\"Max\",\"Hill\",\"Amy\",\"John\"],\n",
    "     \"chinese\":[60,80,65,50]}\n",
    "df=pd.DataFrame(dic)\n",
    "df_1=pd.DataFrame(dic_1)\n",
    "print(df)\n",
    "print(\"-\"*20)\n",
    "print(df_1)"
   ]
  },
  {
   "cell_type": "code",
   "execution_count": 63,
   "metadata": {
    "slideshow": {
     "slide_type": "slide"
    }
   },
   "outputs": [
    {
     "name": "stdout",
     "output_type": "stream",
     "text": [
      "   name  english  math  name  chinese\n",
      "0   Amy      100    60   Max       60\n",
      "1  John       90    80  Hill       80\n",
      "2   Max       65    60   Amy       65\n",
      "3  Hill       80   100  John       50\n"
     ]
    }
   ],
   "source": [
    "#.concat()\n",
    "df_2=pd.concat([df,df_1], axis=1)\n",
    "print(df_2)"
   ]
  },
  {
   "cell_type": "code",
   "execution_count": 64,
   "metadata": {},
   "outputs": [
    {
     "name": "stdout",
     "output_type": "stream",
     "text": [
      "   name  english  math  chinese\n",
      "0   Amy      100    60       65\n",
      "1  John       90    80       50\n",
      "2   Max       65    60       60\n",
      "3  Hill       80   100       80\n"
     ]
    }
   ],
   "source": [
    "#merge\n",
    "df_3 = pd.merge(df,df_1, on='name', how='inner')\n",
    "print(df_3)"
   ]
  },
  {
   "cell_type": "markdown",
   "metadata": {},
   "source": [
    "merge 跟 concat 他還有一些不常用的參數，未來有時間有興趣可以自己看文件，\n",
    "或是Lesson 09 - Data Visualisation By 呂伯駿 (Po Chun):\n",
    "> * [.concate 與 .merge 文件連結](https://pandas.pydata.org/pandas-docs/stable/merging.html)"
   ]
  },
  {
   "cell_type": "code",
   "execution_count": null,
   "metadata": {
    "slideshow": {
     "slide_type": "slide"
    }
   },
   "outputs": [],
   "source": [
    "最後一步\n",
    " * 在資料視覺化的時候，我們會用Series或list匯入處理好的資料\n",
    " * 前置步驟:(假設資料長這樣，我要用姓名當x軸//成績當作y軸)\n",
    "    >1.從DataFrame轉成list\n",
    "    >2.從DataFrame轉Series"
   ]
  },
  {
   "cell_type": "code",
   "execution_count": 66,
   "metadata": {},
   "outputs": [
    {
     "name": "stdout",
     "output_type": "stream",
     "text": [
      "   name  english  math  chinese\n",
      "0   Amy      100    60       65\n",
      "1  John       90    80       50\n",
      "2   Max       65    60       60\n",
      "3  Hill       80   100       80\n"
     ]
    }
   ],
   "source": [
    "print(df_3)"
   ]
  },
  {
   "cell_type": "code",
   "execution_count": 78,
   "metadata": {},
   "outputs": [
    {
     "name": "stdout",
     "output_type": "stream",
     "text": [
      "0    100\n",
      "1     90\n",
      "2     65\n",
      "3     80\n",
      "Name: english, dtype: int64\n",
      "<class 'pandas.core.series.Series'>\n",
      "int64\n"
     ]
    }
   ],
   "source": [
    "#2.從DataFrame轉成list\n",
    "english=df_3[\"english\"].tolist()\n",
    "print(english)\n",
    "print(type(english))"
   ]
  },
  {
   "cell_type": "code",
   "execution_count": null,
   "metadata": {},
   "outputs": [],
   "source": [
    "練習:\n",
    " * 取出chinese的數值(從DataFrame轉Series)，"
   ]
  },
  {
   "cell_type": "markdown",
   "metadata": {},
   "source": [
    "<div style='color: white'>\n",
    "english=df_3[\"chinese\"]<br>\n",
    "print(english)<br>\n",
    "print(type(english))\n",
    "</div>"
   ]
  },
  {
   "cell_type": "markdown",
   "metadata": {
    "slideshow": {
     "slide_type": "slide"
    }
   },
   "source": [
    "延伸學習:\n",
    "> * 從 pandas 開始 Python 與資料科學之旅:https://medium.com/datainpoint/從-pandas-開始-python-與資料科學之旅-8dee36796d4a\n",
    "\n",
    "參考資料:\n",
    "> *  Lesson 09 - Data Visualisation By 呂伯駿 (Po Chun):\n",
    "    https://nbviewer.jupyter.org/format/slides/github/x-village/python-course/blob/master/Lesson08-Web%20Crawler/Lesson09-Data%20Visualisation.ipynb#/\n",
    "> * pandas資料處理與分析的利器:\n",
    "    https://drive.google.com/drive/u/0/folders/0B0UIQiTTYz0BWVJkOHJVVGNUNWs"
   ]
  },
  {
   "cell_type": "code",
   "execution_count": null,
   "metadata": {},
   "outputs": [],
   "source": []
  }
 ],
 "metadata": {
  "celltoolbar": "Slideshow",
  "kernelspec": {
   "display_name": "Python 3",
   "language": "python",
   "name": "python3"
  },
  "language_info": {
   "codemirror_mode": {
    "name": "ipython",
    "version": 3
   },
   "file_extension": ".py",
   "mimetype": "text/x-python",
   "name": "python",
   "nbconvert_exporter": "python",
   "pygments_lexer": "ipython3",
   "version": "3.6.6"
  }
 },
 "nbformat": 4,
 "nbformat_minor": 2
}
